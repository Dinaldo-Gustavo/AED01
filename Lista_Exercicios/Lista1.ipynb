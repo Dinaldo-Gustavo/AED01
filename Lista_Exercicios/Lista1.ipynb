{
 "cells": [
  {
   "cell_type": "markdown",
   "id": "fcea8ea4-1455-4b75-ab15-56e978f12284",
   "metadata": {},
   "source": [
    "PARTE 1: CONDICIONAIS"
   ]
  },
  {
   "cell_type": "markdown",
   "id": "16ff5864-d69f-45ab-a72a-4b97c91948b8",
   "metadata": {},
   "source": [
    "Exercício 0: Faça um algoritmo para ler um número e mostrar se ele é par ou ímpar, positivo ou negativo."
   ]
  },
  {
   "cell_type": "code",
   "execution_count": null,
   "id": "40d4cdfc-1943-45a4-ad97-380381fb691e",
   "metadata": {},
   "outputs": [],
   "source": [
    "num = float(input(\"Digite um número: \"))\n",
    "if num % 2 == 0:\n",
    "    if num >= 0:\n",
    "        print(\"Esse número é par e positivo\")\n",
    "    else:\n",
    "        print(\"Esse número é par negativo\")\n",
    "else:\n",
    "    if num > 0:\n",
    "        print(\"Esse número é ímpar positivo\")\n",
    "    else:\n",
    "        print(\"Esse número é ímpar negativo\")"
   ]
  },
  {
   "cell_type": "markdown",
   "id": "ae3201e7-8ab6-48fb-be15-c1a6706f17a7",
   "metadata": {},
   "source": [
    "Exercício 1: Faça um programa que peça dois números e imprima o maior deles."
   ]
  },
  {
   "cell_type": "code",
   "execution_count": null,
   "id": "26336edc-0e0a-420c-8b8b-edc6c0991196",
   "metadata": {},
   "outputs": [],
   "source": [
    "num1 = float(input(\"Digite um número: \"))\n",
    "num2 = float(input(\"Digite outro número: \"))\n",
    "if num1 > num2:\n",
    "    print(\"O maior valor é: \", num1)\n",
    "else:\n",
    "    print(\"O maior valor é: \", num2)\n",
    "    "
   ]
  },
  {
   "cell_type": "markdown",
   "id": "101f494e-9676-416b-b437-f01f0b156e72",
   "metadata": {},
   "source": [
    "Exercício 2: Faça um programa que peça um valor e mostre na tela se o valor é positivo ou negativo."
   ]
  },
  {
   "cell_type": "code",
   "execution_count": null,
   "id": "a98efef2-4586-4c69-bd00-b7a108c325f6",
   "metadata": {},
   "outputs": [],
   "source": [
    "num = float(input(\"Digite um valor: \"))\n",
    "if num >= 0:\n",
    "    print(f\"O valor {num} é positivo\")\n",
    "else:\n",
    "    print(f\"O valor {num} é negatvivo\")"
   ]
  },
  {
   "cell_type": "markdown",
   "id": "05052e1c-c09e-47c7-bc97-eee5a5b65ab9",
   "metadata": {},
   "source": [
    "Exercício 3: Faça um programa que verifique se uma letra digitada é vogal ou consoante."
   ]
  },
  {
   "cell_type": "code",
   "execution_count": null,
   "id": "a67343ed-32ce-48cf-b7e2-389a8f149724",
   "metadata": {},
   "outputs": [],
   "source": [
    "letra = input(\"Digite uma letra: \")\n",
    "vogais = ['a', 'b', 'c', 'd', 'e']\n",
    "if letra in vogais:\n",
    "    print(f\"A letra '{letra}' é uma vogal\")\n",
    "else:\n",
    "    print(f\"A letra '{letra}' é uma consoante\")"
   ]
  },
  {
   "cell_type": "markdown",
   "id": "cd3d9d97-817c-40e7-8c14-971b3ee92856",
   "metadata": {},
   "source": [
    "Exercício 4: Faça um programa para a leitura de duas notas parciais de um aluno. O programa deve calcular a média alcançada por aluno e apresentar: \\\n",
    "             a. A mensagem \"Aprovado\", se a média alcançada for maior ou igual a sete; \\\n",
    "             b. A mensagem \"Reprovado\", se a média for menor do que sete; \\\n",
    "             c. A mensagem \"Aprovado com Distinção\", se a média for igual a dez. \\"
   ]
  },
  {
   "cell_type": "code",
   "execution_count": null,
   "id": "4f9f99d8-4b79-424e-93b4-2912a7d3f5ea",
   "metadata": {},
   "outputs": [],
   "source": [
    "nota1 = float(input(\"Digite a nota 1: \"))\n",
    "nota2 = float(input(\"Digite a nota 2: \"))\n",
    "media = (nota1 + nota2) / 2\n",
    "if media < 7:\n",
    "    print(\"Reprovado\")\n",
    "elif media == 10:\n",
    "    print(\"Aprovado com Distinção\")\n",
    "else:\n",
    "    print(\"Aprovado\")"
   ]
  },
  {
   "cell_type": "markdown",
   "id": "a00eb38c-3ad7-4454-a7ee-e98f49ff6ca8",
   "metadata": {},
   "source": [
    "Exercício 5: Faça um programa que pergunte o preço de três produtos e informe qual produto você deve comprar, sabendo que a \n",
    "decisão é sempre pelo mais barato."
   ]
  },
  {
   "cell_type": "code",
   "execution_count": null,
   "id": "aed23df4-d9dc-4436-9a9e-4a6bb743a77e",
   "metadata": {},
   "outputs": [],
   "source": [
    "preco1 = float(input(\"Digite o preço do primeiro produto: R$ \"))\n",
    "preco2 = float(input(\"Digite o preço do segundo produto: R$ \"))\n",
    "preco3 = float(input(\"Digite o preço do terceiro produto: R$ \"))\n",
    "if preco1 < preco2 and preco1 < preco3:\n",
    "    print(\"Você deve comprar o primeiro produto\")\n",
    "elif preco2 < preco1 and preco2 < preco3:\n",
    "    print(\"Você deve comprar o segundo produto\")\n",
    "else:\n",
    "    print(\"Você deve comprar o terceiro produto\")"
   ]
  },
  {
   "cell_type": "markdown",
   "id": "bb870d85-9883-471e-b01f-84e39038dac6",
   "metadata": {},
   "source": [
    "Exercício 6: Faça um Programa que leia três números e mostre-os em ordem decrescente."
   ]
  },
  {
   "cell_type": "code",
   "execution_count": null,
   "id": "76f17125-6b75-495a-bbff-b2f9ecc9e38c",
   "metadata": {},
   "outputs": [],
   "source": [
    "a = float(input(\"Digite um número: \"))\n",
    "b = float(input(\"Digite outro número: \"))\n",
    "c = float(input(\"Digite mais um número: \"))\n",
    "lista = [a, b, c]\n",
    "lista.sort(reverse=True)\n",
    "print(lista)"
   ]
  },
  {
   "cell_type": "markdown",
   "id": "0cb25609-e7d9-45fe-b7d9-ea7a3802228d",
   "metadata": {},
   "source": [
    "Exercício 7: Faça um Programa que pergunte em que turno você estuda. Peça para digitar M-matutino ou V-Vespertino ou N- Noturno. \n",
    "Imprima a mensagem \"Bom Dia!\", \"Boa Tarde!\" ou \"Boa Noite!\" ou \"Valor Inválido!\", conforme o caso."
   ]
  },
  {
   "cell_type": "code",
   "execution_count": null,
   "id": "4bea884b-3442-4b04-8797-47647a37f6be",
   "metadata": {},
   "outputs": [],
   "source": [
    "turno = input(\"Em qual turno você estuda? (M - matutino) (V - vespertino) (N - noturno): \").upper()\n",
    "if turno == \"M\":\n",
    "    print(\"Bom dia!\")\n",
    "elif turno == \"V\":\n",
    "    print(\"Boa tarde!\")\n",
    "elif turno == \"N\":\n",
    "    print(\"Boa noite!\")\n",
    "else:\n",
    "    print(\"Valor Inválido!\")"
   ]
  },
  {
   "cell_type": "markdown",
   "id": "f5918c51-cea1-4458-86bc-f224771b5af8",
   "metadata": {},
   "source": [
    "Exercício 8: As Organizações Tabajara resolveram dar um aumento de salário aos seus colaboradores e lhe contrataram para desenvolver o programa que calculará os reajustes. \\\n",
    "a. Faça um programa que recebe o salário de um colaborador e o reajuste segundo o seguinte critério, baseado no \n",
    "salário atual: \\\n",
    "b. salários até R 280,00 (incluindo) : aumento de 20% \\\n",
    "c. salários entre R 280,00 e R 700,00 : aumento de 15% \\\n",
    "d. salários entre R 700,00 e R 1500,00 : aumento de 10% \\\n",
    "e. salários de R 1500,00 em diante : aumento de 5% Após o aumento ser realizado, informe na tela: \\\n",
    "f. o salário antes do reajuste; \\\n",
    "g. o percentual de aumento aplicado; \\\n",
    "h. o valor do aumento; \\\n",
    "i. o novo salário, após o aumento. "
   ]
  },
  {
   "cell_type": "code",
   "execution_count": null,
   "id": "113252b6-6bb8-47d6-911b-f9492501a80a",
   "metadata": {},
   "outputs": [],
   "source": [
    "salarios = []\n",
    "salario = int(input(\"Digite o seu salário: \"))\n",
    "salarios.append(salario)\n",
    "if salario <= 280:\n",
    "    salario = salario * 1.2\n",
    "    percentual = 20\n",
    "elif salario <= 700:\n",
    "    salario = salario * 1.15\n",
    "    percentual = 15\n",
    "elif salario <= 1500:\n",
    "    salario = salario * 1.1\n",
    "    percentual = 10\n",
    "else:\n",
    "    salario = salario * 1.05\n",
    "    percentual = 5\n",
    "salarios.append(salario) \n",
    "print(f\"Salário Inicial: {salarios[0]}\")\n",
    "print(f\"Percentual de aumento aplicado: {percentual} %\")\n",
    "print(f\"O valor do aumento: {salarios[1] - salarios[0]}\")\n",
    "print(f\"O novo salário: {salarios[1]}\")"
   ]
  },
  {
   "cell_type": "markdown",
   "id": "0960d0d2-6e17-4aab-b3ac-2ed147cae51a",
   "metadata": {},
   "source": [
    "Exercício 9: Faça um programa para o cálculo de uma folha de pagamento, sabendo que os descontos são do Imposto de Renda, que\n",
    "depende do salário bruto (conforme tabela abaixo) e 3% para o Sindicato e que o FGTS corresponde a 11% do Salário\n",
    "Bruto, mas não é descontado (é a empresa que deposita). O Salário Líquido corresponde ao Salário Bruto menos os\n",
    "descontos. O programa deverá pedir ao usuário o valor da sua hora e a quantidade de horas trabalhadas no mês. \\\n",
    "a. Desconto do IR: \\\n",
    "b. Salário Bruto até 900 (inclusive) - isento \\\n",
    "c. Salário Bruto até 1500 (inclusive) - desconto de 5% \\\n",
    "d. Salário Bruto até 2500 (inclusive) - desconto de 10% \\\n",
    "e. Salário Bruto acima de 2500 - desconto de 20% \\\n",
    "Imprima na tela as informações, dispostas conforme o exemplo abaixo. No exemplo o valor da hora é 5 e a quantidade de hora é 220\n",
    "\n",
    "\\\n",
    "f. Salário Bruto: (5 * 220) : R 1100,00 \\\n",
    "g. (-) IR (5%) : R 55,00 \\\n",
    "h. (-) INSS ( 10%) : R 110,00 \\\n",
    "i. FGTS (11%) : R 121,00 \\\n",
    "j. Total de descontos : R 165,00 \\\n",
    "   Salário Liquido : R 935,00 \\"
   ]
  },
  {
   "cell_type": "code",
   "execution_count": null,
   "id": "3c03b7da-d868-4985-b024-f8fbecc72a22",
   "metadata": {},
   "outputs": [],
   "source": [
    "hora = float(input(\"Qual o valor da sua hora de trabalho?: \"))\n",
    "qtde = float(input(\"Qual a quantidade de horas trabalhadas nesse mês?: \"))\n",
    "salario_bruto = hora * qtde\n",
    "fgts = salario_bruto * 0.11\n",
    "sindicato = salario_bruto * 0.03\n",
    "\n",
    "if salario_bruto <= 900:\n",
    "    p = 0\n",
    "    ir = salario_bruto * 0\n",
    "elif salario_bruto <= 1500:\n",
    "    p = 5\n",
    "    ir = salario_bruto * 0.05\n",
    "elif salario_bruto <= 2500:\n",
    "    p = 10\n",
    "    ir = salario_bruto * 0.10\n",
    "else:\n",
    "    p = 20\n",
    "    ir = salario_bruto * 0.2\n",
    "\n",
    "salario_liquido = salario_bruto - (ir + sindicato)\n",
    "\n",
    "print(f\"Salário Bruto: ({hora}*{qtde}) = R${salario_bruto:.2f}\")\n",
    "print(f\"(-) IR ({p}%): R${ir:.2f}\")\n",
    "print(f\"(-) Sindicato (3%): R$ {sindicato:.2f}\")\n",
    "print(f\"FGTS (11%): R${fgts:.2f}\")\n",
    "print(f\"Total de descontos: R${ir + sindicato}\")\n",
    "print(f\"Salário Líquido: R${salario_liquido:.2f}\")"
   ]
  },
  {
   "cell_type": "markdown",
   "id": "87aa9609-4771-48bf-baff-446a9f08fd32",
   "metadata": {},
   "source": [
    "Exercício 10: Faça um programa que lê as duas notas parciais obtidas por um aluno numa disciplina ao longo de um semestre, e calcule\n",
    "a sua média. A atribuição de conceitos obedece à tabela abaixo: \\\n",
    "a. Média de Aproveitamento Conceito \\\n",
    "b. Entre 9.0 e 10.0 A \\\n",
    "c. Entre 7.5 e 9.0 B \\\n",
    "d. Entre 6.0 e 7.5 C \\\n",
    "e. Entre 4.0 e 6.0 D \\\n",
    "f. Entre 4.0 e zero E\n"
   ]
  },
  {
   "cell_type": "code",
   "execution_count": null,
   "id": "b2f8e322-6e2a-428f-8d17-f4b219d7c974",
   "metadata": {},
   "outputs": [],
   "source": [
    "nota1 = float(input(\"Digite a primeira nota: \"))\n",
    "nota2 = float(input(\"Digite a segunda nota: \"))\n",
    "media = (nota1 + nota2) / 2\n",
    "if media < 4:\n",
    "    print(\"Conceito: E\")\n",
    "elif media < 6:\n",
    "    print(\"Conceito: D\")\n",
    "elif media < 7.5:\n",
    "    print(\"Conceito: C\")\n",
    "elif media < 9:\n",
    "    print(\"Conceito: B\")\n",
    "else:\n",
    "    print(\"Conceito: A\")"
   ]
  },
  {
   "cell_type": "markdown",
   "id": "39f09b16-8904-4b94-adcc-35f73b322962",
   "metadata": {},
   "source": [
    "PARTE 2: LOOPS DE REPETIÇÃO"
   ]
  },
  {
   "cell_type": "markdown",
   "id": "5927b38e-c88b-475c-8659-debe094bc54d",
   "metadata": {},
   "source": [
    "Exercício 1: Faça um programa que peça uma nota, entre zero e dez. Mostre uma mensagem caso o valor seja inválido e continue\n",
    "pedindo até que o usuário informe um valor válido."
   ]
  },
  {
   "cell_type": "code",
   "execution_count": null,
   "id": "c0285169-8c83-433b-ae5b-7147aef31b18",
   "metadata": {},
   "outputs": [],
   "source": [
    "nota = int(input(\"Digite uma nota de 0 a 10: \"))\n",
    "while nota not in range(0, 11):\n",
    "    nota = float(input(\"Informe um valor válido: \"))"
   ]
  },
  {
   "cell_type": "markdown",
   "id": "3114c39b-07e4-4fb0-a19d-9da4e6ee231f",
   "metadata": {},
   "source": [
    "Exercício 2: Faça um programa que leia um nome de usuário e a sua senha e não aceite a senha igual ao nome do usuário, mostrando\n",
    "uma mensagem de erro e voltando a pedir as informações."
   ]
  },
  {
   "cell_type": "code",
   "execution_count": null,
   "id": "4b3cc212-733c-49ed-adfd-3f61de20dffd",
   "metadata": {},
   "outputs": [],
   "source": [
    "nome = input(\"Digite o seu nome: \")\n",
    "senha = input(\"Digite a sua senha: \")\n",
    "while nome == senha:\n",
    "    print(\"ERRO: o nome e a senha não podem ser iguais\")\n",
    "    print(\"Tente novamente\")\n",
    "    nome = input(\"Digite o seu nome: \")\n",
    "    senha = input(\"Digite a sua senha: \")"
   ]
  },
  {
   "cell_type": "markdown",
   "id": "a268518f-34b9-4381-82b1-5351de53d24e",
   "metadata": {},
   "source": [
    "Exerício 3: Faça um programa que leia e valide as seguintes informações: \\\n",
    "a. Nome: maior que 3 caracteres; \\\n",
    "b. Idade: entre 0 e 150; \\\n",
    "c. Salário: maior que zero; \\\n",
    "d. Sexo: 'f' ou 'm'; \\\n",
    "e. Estado Civil: 's', 'c', 'v', 'd'; \\"
   ]
  },
  {
   "cell_type": "code",
   "execution_count": null,
   "id": "d56d75b5-a284-46a5-9a00-98c518684dfb",
   "metadata": {},
   "outputs": [],
   "source": [
    "nome = input(\"Digite o seu nome: \")\n",
    "idade = int(input(\"Digite a sua idade: \"))\n",
    "salario = int(input(\"Digite o seu salário: \"))\n",
    "sexo = input(\"Digite o seu sexo (f) ou (m): \").lower()\n",
    "estado = input(\"Digite o seu estado civil (s), (c), (v), (d): \").lower()\n",
    "while len(nome) < 3 or idade < 0 or idade > 150 or salario < 0 or sexo not in ['f', 'm'] or estado not in ['s', 'v', 'c', 'd']:\n",
    "    print(\"Valores Inválidos, tente novamente\")\n",
    "    nome = input(\"Digite o seu nome: \")\n",
    "    idade = input(\"Digite a sua idade: \")\n",
    "    salario = input(\"Digite o seu salário: \")\n",
    "    sexo = input(\"Digite o seu sexo (f) ou (m): \").lower()\n",
    "    estado = input(\"Digite o seu estado civil (s), (c), (v), (d): \").lower()\n",
    "print(\"Sucesso!\")"
   ]
  },
  {
   "cell_type": "markdown",
   "id": "aa7e97c9-fdda-44b9-b4c2-7616cbe63a0b",
   "metadata": {},
   "source": [
    "Exercício 4: Supondo que a população de um país A seja da ordem de 80000 habitantes com uma taxa anual de crescimento de 3% e\n",
    "que a população de B seja 200000 habitantes com uma taxa de crescimento de 1.5%. Faça um programa que calcule e\n",
    "escreva o número de anos necessários para que a população do país A ultrapasse ou iguale a população do país B,\n",
    "mantidas as taxas de crescimento."
   ]
  },
  {
   "cell_type": "code",
   "execution_count": 13,
   "id": "4848a35b-aa59-4be7-92d0-b27d54034f71",
   "metadata": {},
   "outputs": [
    {
     "name": "stdout",
     "output_type": "stream",
     "text": [
      "63\n"
     ]
    }
   ],
   "source": [
    "a = 80000\n",
    "b = 200000\n",
    "ano = 0\n",
    "taxa_a = 0.03\n",
    "taxa_b = 0.015\n",
    "while a < b:\n",
    "    a = a + (a * taxa_a)\n",
    "    b = b + (b * taxa_b)\n",
    "    ano += 1\n",
    "print(ano)"
   ]
  },
  {
   "cell_type": "markdown",
   "id": "2f039bbe-44f5-4627-b67c-b43b29368523",
   "metadata": {},
   "source": [
    "Exercício 5: Faça um programa que leia 5 números e informe a soma e a média dos números"
   ]
  },
  {
   "cell_type": "code",
   "execution_count": 15,
   "id": "89de6184-e71f-4ead-90c4-2df27ae5842d",
   "metadata": {},
   "outputs": [
    {
     "name": "stdin",
     "output_type": "stream",
     "text": [
      "Digite um número:  5\n",
      "Digite um número:  4\n",
      "Digite um número:  5\n",
      "Digite um número:  4\n",
      "Digite um número:  5\n"
     ]
    },
    {
     "name": "stdout",
     "output_type": "stream",
     "text": [
      "A soma é:  23.0\n",
      "A média é:  4.6\n"
     ]
    }
   ],
   "source": [
    "a = float(input(\"Digite um número: \"))\n",
    "b = float(input(\"Digite um número: \"))\n",
    "c = float(input(\"Digite um número: \"))\n",
    "d = float(input(\"Digite um número: \"))\n",
    "e = float(input(\"Digite um número: \"))\n",
    "soma = a + b + c + d + e\n",
    "media = soma / 5\n",
    "print(\"A soma é: \", soma)\n",
    "print(\"A média é: \", media)"
   ]
  },
  {
   "cell_type": "markdown",
   "id": "15403163-cbff-4460-9d70-817359e8c654",
   "metadata": {},
   "source": [
    "Exercício 6: Desenvolva um gerador de tabuada, capaz de gerar a tabuada de qualquer número inteiro entre 1 a 10. O usuário deve\n",
    "informar de qual numero ele deseja ver a tabuada. A saída deve ser conforme o exemplo abaixo: \\\n",
    "a. Tabuada de 5: \\\n",
    "b. 5 X 1 = 5 \\\n",
    "c. 5 X 2 = 10 \\\n",
    "d. ... \\\n",
    "e. 5 X 10 = 50 \\"
   ]
  },
  {
   "cell_type": "code",
   "execution_count": 20,
   "id": "f2333642-26d8-4918-a89f-f0748323313f",
   "metadata": {},
   "outputs": [
    {
     "name": "stdin",
     "output_type": "stream",
     "text": [
      "Digite de qual número você quer ver a tabuada:  10\n"
     ]
    },
    {
     "name": "stdout",
     "output_type": "stream",
     "text": [
      "Tabuada do 10:\n",
      "10 x 1 = 10\n",
      "10 x 2 = 20\n",
      "10 x 3 = 30\n",
      "10 x 4 = 40\n",
      "10 x 5 = 50\n",
      "10 x 6 = 60\n",
      "10 x 7 = 70\n",
      "10 x 8 = 80\n",
      "10 x 9 = 90\n",
      "10 x 10 = 100\n"
     ]
    }
   ],
   "source": [
    "num = int(input(\"Digite de qual número você quer ver a tabuada: \"))\n",
    "print(f\"Tabuada do {num}:\")\n",
    "for i in range(1,11):\n",
    "    print(f\"{num} x {i} = {num * i}\")"
   ]
  },
  {
   "cell_type": "markdown",
   "id": "c19b689a-cf2e-4dbe-8a18-98f0138c7c6e",
   "metadata": {},
   "source": [
    "Exercício 7: A série de Fibonacci é formada pela seqüência 1,1,2,3,5,8,13,21,34,55,... Faça um programa capaz de gerar a série até o\n",
    "n−ésimo termo"
   ]
  },
  {
   "cell_type": "code",
   "execution_count": 59,
   "id": "e5945492-6035-40fc-88a5-7de2ea2ba9a0",
   "metadata": {},
   "outputs": [
    {
     "name": "stdin",
     "output_type": "stream",
     "text": [
      "Até que número quer ver a sequência de Fibonacci?:  4\n"
     ]
    },
    {
     "name": "stdout",
     "output_type": "stream",
     "text": [
      "1 1 2 3 "
     ]
    }
   ],
   "source": [
    "n = int(input(\"Até que número quer ver a sequência de Fibonacci?: \"))\n",
    "x = 1\n",
    "y = 1\n",
    "if n == 1:\n",
    "    print(x)\n",
    "elif n == 2:\n",
    "    print(x, y)\n",
    "else:\n",
    "    print(x, y, end=\" \")\n",
    "    for i in range(3, n+1):\n",
    "        z = x + y\n",
    "        print(z, end=\" \")\n",
    "        x, y = y, z\n",
    "        \n",
    "    \n",
    "   "
   ]
  },
  {
   "cell_type": "markdown",
   "id": "22f4837f-bfad-42e8-8d10-405a19532aae",
   "metadata": {},
   "source": [
    "Exercício 8: Faça um programa que calcule o mostre a média aritmética de N notas"
   ]
  },
  {
   "cell_type": "code",
   "execution_count": 74,
   "id": "24c8835b-ff3f-48fd-a80a-e57c0345ec8a",
   "metadata": {},
   "outputs": [
    {
     "name": "stdin",
     "output_type": "stream",
     "text": [
      "Quantas notas você quer fazer a média?:  5\n",
      "Digite as notas:  10\n",
      "Digite as notas:  4\n",
      "Digite as notas:  2\n",
      "Digite as notas:  9\n",
      "Digite as notas:  1\n"
     ]
    },
    {
     "name": "stdout",
     "output_type": "stream",
     "text": [
      "A média é: 5.2\n"
     ]
    }
   ],
   "source": [
    "N = int(input(\"Quantas notas você quer fazer a média?: \"))\n",
    "notas = []\n",
    "for i in range(N):\n",
    "    nota = float(input(\"Digite as notas: \"))\n",
    "    notas.append(nota)\n",
    "media = sum(notas) / N\n",
    "print(\"A média é:\", media)"
   ]
  },
  {
   "cell_type": "markdown",
   "id": "cb28c219-c79f-4a42-9981-9d31f919fc7d",
   "metadata": {},
   "source": [
    "Exercício 9: O Sr. Manoel Joaquim possui uma grande loja de artigos de R$ 1,99, com cerca de 10 caixas. Para agilizar o cálculo de\n",
    "quanto cada cliente deve pagar ele desenvolveu um tabela que contém o número de itens que o cliente comprou e ao lado\n",
    "o valor da conta. Desta forma a atendente do caixa precisa apenas contar quantos itens o cliente está levando e olhar na\n",
    "tabela de preços. Você foi contratado para desenvolver o programa que monta esta tabela de preços, que conterá os preços\n",
    "de 1 até 50 produtos, conforme o exemplo abaixo: \\\n",
    "a. Lojas Quase Dois - Tabela de preços \\\n",
    "b. 1 - R 1.99 \\\n",
    "c. 2 - R 3.98 \\\n",
    "d. ... \\\n",
    "e. 50 - R 99.50"
   ]
  },
  {
   "cell_type": "code",
   "execution_count": 1,
   "id": "4ad00ee5-471e-4294-b957-4331bc5bd4da",
   "metadata": {},
   "outputs": [
    {
     "name": "stdout",
     "output_type": "stream",
     "text": [
      "1 - R$ 1.99\n",
      "2 - R$ 3.98\n",
      "3 - R$ 5.97\n",
      "4 - R$ 7.96\n",
      "5 - R$ 9.95\n",
      "6 - R$ 11.94\n",
      "7 - R$ 13.93\n",
      "8 - R$ 15.92\n",
      "9 - R$ 17.91\n",
      "10 - R$ 19.9\n",
      "11 - R$ 21.89\n",
      "12 - R$ 23.88\n",
      "13 - R$ 25.87\n",
      "14 - R$ 27.86\n",
      "15 - R$ 29.85\n",
      "16 - R$ 31.84\n",
      "17 - R$ 33.83\n",
      "18 - R$ 35.82\n",
      "19 - R$ 37.81\n",
      "20 - R$ 39.8\n",
      "21 - R$ 41.79\n",
      "22 - R$ 43.78\n",
      "23 - R$ 45.77\n",
      "24 - R$ 47.76\n",
      "25 - R$ 49.75\n",
      "26 - R$ 51.74\n",
      "27 - R$ 53.73\n",
      "28 - R$ 55.72\n",
      "29 - R$ 57.71\n",
      "30 - R$ 59.7\n",
      "31 - R$ 61.69\n",
      "32 - R$ 63.68\n",
      "33 - R$ 65.67\n",
      "34 - R$ 67.66\n",
      "35 - R$ 69.65\n",
      "36 - R$ 71.64\n",
      "37 - R$ 73.63\n",
      "38 - R$ 75.62\n",
      "39 - R$ 77.61\n",
      "40 - R$ 79.6\n",
      "41 - R$ 81.59\n",
      "42 - R$ 83.58\n",
      "43 - R$ 85.57\n",
      "44 - R$ 87.56\n",
      "45 - R$ 89.55\n",
      "46 - R$ 91.54\n",
      "47 - R$ 93.53\n",
      "48 - R$ 95.52\n",
      "49 - R$ 97.51\n",
      "50 - R$ 99.5\n"
     ]
    }
   ],
   "source": [
    "qtde = 1\n",
    "preco = 1.99\n",
    "while qtde <= 50:\n",
    "    print(f\"{qtde} - R$ {qtde * preco}\")\n",
    "    qtde += 1"
   ]
  },
  {
   "cell_type": "code",
   "execution_count": null,
   "id": "93093a23-5e6e-4e80-a6e3-497116c279c9",
   "metadata": {},
   "outputs": [],
   "source": []
  }
 ],
 "metadata": {
  "kernelspec": {
   "display_name": "Python [conda env:base] *",
   "language": "python",
   "name": "conda-base-py"
  },
  "language_info": {
   "codemirror_mode": {
    "name": "ipython",
    "version": 3
   },
   "file_extension": ".py",
   "mimetype": "text/x-python",
   "name": "python",
   "nbconvert_exporter": "python",
   "pygments_lexer": "ipython3",
   "version": "3.12.3"
  }
 },
 "nbformat": 4,
 "nbformat_minor": 5
}
