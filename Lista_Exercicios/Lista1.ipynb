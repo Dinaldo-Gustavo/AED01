{
 "cells": [
  {
   "cell_type": "markdown",
   "id": "135c27b1-c6ce-49a3-b852-251153c2bf45",
   "metadata": {},
   "source": [
    "Exercício 0: Faça um algoritmo para ler um número e mostrar se ele é par ou ímpar, positivo ou negativo."
   ]
  },
  {
   "cell_type": "code",
   "execution_count": 20,
   "id": "40d4cdfc-1943-45a4-ad97-380381fb691e",
   "metadata": {},
   "outputs": [
    {
     "name": "stdin",
     "output_type": "stream",
     "text": [
      "Digite um número:  0\n"
     ]
    },
    {
     "name": "stdout",
     "output_type": "stream",
     "text": [
      "Esse número é par e positivo\n"
     ]
    }
   ],
   "source": [
    "num = float(input(\"Digite um número: \"))\n",
    "if num % 2 == 0:\n",
    "    if num >= 0:\n",
    "        print(\"Esse número é par e positivo\")\n",
    "    else:\n",
    "        print(\"Esse número é par negativo\")\n",
    "else:\n",
    "    if num > 0:\n",
    "        print(\"Esse número é ímpar positivo\")\n",
    "    else:\n",
    "        print(\"Esse número é ímpar negativo\")"
   ]
  },
  {
   "cell_type": "markdown",
   "id": "ae3201e7-8ab6-48fb-be15-c1a6706f17a7",
   "metadata": {},
   "source": [
    "Exercício 1: Faça um programa que peça dois números e imprima o maior deles."
   ]
  },
  {
   "cell_type": "code",
   "execution_count": 28,
   "id": "26336edc-0e0a-420c-8b8b-edc6c0991196",
   "metadata": {},
   "outputs": [
    {
     "name": "stdin",
     "output_type": "stream",
     "text": [
      "Digite um número:  5\n",
      "Digite outro número:  10\n"
     ]
    },
    {
     "name": "stdout",
     "output_type": "stream",
     "text": [
      "O maior valor é:  10.0\n"
     ]
    }
   ],
   "source": [
    "num1 = float(input(\"Digite um número: \"))\n",
    "num2 = float(input(\"Digite outro número: \"))\n",
    "if num1 > num2:\n",
    "    print(\"O maior valor é: \", num1)\n",
    "else:\n",
    "    print(\"O maior valor é: \", num2)\n",
    "    "
   ]
  },
  {
   "cell_type": "markdown",
   "id": "101f494e-9676-416b-b437-f01f0b156e72",
   "metadata": {},
   "source": [
    "Exercício 2: Faça um programa que peça um valor e mostre na tela se o valor é positivo ou negativo."
   ]
  },
  {
   "cell_type": "markdown",
   "id": "05052e1c-c09e-47c7-bc97-eee5a5b65ab9",
   "metadata": {},
   "source": [
    "Exercício 3: Faça um programa que verifique se uma letra digitada é vogal ou consoante."
   ]
  },
  {
   "cell_type": "markdown",
   "id": "cd3d9d97-817c-40e7-8c14-971b3ee92856",
   "metadata": {},
   "source": [
    "Exercício 4: Faça um programa para a leitura de duas notas parciais de um aluno. O programa deve calcular a média alcançada por aluno e apresentar: \\\n",
    "             a. A mensagem \"Aprovado\", se a média alcançada for maior ou igual a sete; \\\n",
    "             b. A mensagem \"Reprovado\", se a média for menor do que sete; \\\n",
    "             c. A mensagem \"Aprovado com Distinção\", se a média for igual a dez. \\"
   ]
  },
  {
   "cell_type": "markdown",
   "id": "a00eb38c-3ad7-4454-a7ee-e98f49ff6ca8",
   "metadata": {},
   "source": [
    "Exercício 5: Faça um programa que pergunte o preço de três produtos e informe qual produto você deve comprar, sabendo que a \n",
    "decisão é sempre pelo mais barato."
   ]
  },
  {
   "cell_type": "markdown",
   "id": "bb870d85-9883-471e-b01f-84e39038dac6",
   "metadata": {},
   "source": [
    "Exercício 6: Faça um Programa que leia três números e mostre-os em ordem decrescente."
   ]
  },
  {
   "cell_type": "markdown",
   "id": "0cb25609-e7d9-45fe-b7d9-ea7a3802228d",
   "metadata": {},
   "source": [
    "Exercício 7: Faça um Programa que pergunte em que turno você estuda. Peça para digitar M-matutino ou V-Vespertino ou N- Noturno. \n",
    "Imprima a mensagem \"Bom Dia!\", \"Boa Tarde!\" ou \"Boa Noite!\" ou \"Valor Inválido!\", conforme o caso."
   ]
  },
  {
   "cell_type": "markdown",
   "id": "f5918c51-cea1-4458-86bc-f224771b5af8",
   "metadata": {},
   "source": [
    "Exercício 8: As Organizações Tabajara resolveram dar um aumento de salário aos seus colaboradores e lhe contraram para desenvolver o programa que calculará os reajustes. \\\n",
    "a. Faça um programa que recebe o salário de um colaborador e o reajuste segundo o seguinte critério, baseado no \n",
    "salário atual: \\\n",
    "b. salários até R 280,00 (incluindo) : aumento de 20% \\\n",
    "c. salários entre R 280,00 e R 700,00 : aumento de 15% \\\n",
    "d. salários entre R 700,00 e R 1500,00 : aumento de 10% \\\n",
    "e. salários de R 1500,00 em diante : aumento de 5% Após o aumento ser realizado, informe na tela: \\\n",
    "f. o salário antes do reajuste; \\\n",
    "g. o percentual de aumento aplicado; \\\n",
    "h. o valor do aumento; \\\n",
    "i. o novo salário, após o aumento. \\"
   ]
  },
  {
   "cell_type": "code",
   "execution_count": null,
   "id": "7cdbbcd2-9f84-441c-bc64-3d305e6fbe1c",
   "metadata": {},
   "outputs": [],
   "source": []
  }
 ],
 "metadata": {
  "kernelspec": {
   "display_name": "Python [conda env:base] *",
   "language": "python",
   "name": "conda-base-py"
  },
  "language_info": {
   "codemirror_mode": {
    "name": "ipython",
    "version": 3
   },
   "file_extension": ".py",
   "mimetype": "text/x-python",
   "name": "python",
   "nbconvert_exporter": "python",
   "pygments_lexer": "ipython3",
   "version": "3.12.7"
  }
 },
 "nbformat": 4,
 "nbformat_minor": 5
}
