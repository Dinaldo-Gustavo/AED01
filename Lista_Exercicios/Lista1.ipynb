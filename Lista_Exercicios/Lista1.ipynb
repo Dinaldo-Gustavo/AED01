{
 "cells": [
  {
   "cell_type": "markdown",
   "id": "fcea8ea4-1455-4b75-ab15-56e978f12284",
   "metadata": {},
   "source": [
    "PARTE 1: CONDICIONAIS"
   ]
  },
  {
   "cell_type": "markdown",
   "id": "16ff5864-d69f-45ab-a72a-4b97c91948b8",
   "metadata": {},
   "source": [
    "Exercício 0: Faça um algoritmo para ler um número e mostrar se ele é par ou ímpar, positivo ou negativo."
   ]
  },
  {
   "cell_type": "code",
   "execution_count": 1,
   "id": "40d4cdfc-1943-45a4-ad97-380381fb691e",
   "metadata": {},
   "outputs": [
    {
     "name": "stdin",
     "output_type": "stream",
     "text": [
      "Digite um número:  2\n"
     ]
    },
    {
     "name": "stdout",
     "output_type": "stream",
     "text": [
      "Esse número é par e positivo\n"
     ]
    }
   ],
   "source": [
    "num = float(input(\"Digite um número: \"))\n",
    "if num % 2 == 0:\n",
    "    if num >= 0:\n",
    "        print(\"Esse número é par e positivo\")\n",
    "    else:\n",
    "        print(\"Esse número é par negativo\")\n",
    "else:\n",
    "    if num > 0:\n",
    "        print(\"Esse número é ímpar positivo\")\n",
    "    else:\n",
    "        print(\"Esse número é ímpar negativo\")"
   ]
  },
  {
   "cell_type": "markdown",
   "id": "ae3201e7-8ab6-48fb-be15-c1a6706f17a7",
   "metadata": {},
   "source": [
    "Exercício 1: Faça um programa que peça dois números e imprima o maior deles."
   ]
  },
  {
   "cell_type": "code",
   "execution_count": null,
   "id": "26336edc-0e0a-420c-8b8b-edc6c0991196",
   "metadata": {},
   "outputs": [],
   "source": [
    "num1 = float(input(\"Digite um número: \"))\n",
    "num2 = float(input(\"Digite outro número: \"))\n",
    "if num1 > num2:\n",
    "    print(\"O maior valor é: \", num1)\n",
    "else:\n",
    "    print(\"O maior valor é: \", num2)\n",
    "    "
   ]
  },
  {
   "cell_type": "markdown",
   "id": "101f494e-9676-416b-b437-f01f0b156e72",
   "metadata": {},
   "source": [
    "Exercício 2: Faça um programa que peça um valor e mostre na tela se o valor é positivo ou negativo."
   ]
  },
  {
   "cell_type": "code",
   "execution_count": null,
   "id": "a98efef2-4586-4c69-bd00-b7a108c325f6",
   "metadata": {},
   "outputs": [],
   "source": [
    "num = float(input(\"Digite um valor: \"))\n",
    "if num >= 0:\n",
    "    print(f\"O valor {num} é positivo\")\n",
    "else:\n",
    "    print(f\"O valor {num} é negatvivo\")"
   ]
  },
  {
   "cell_type": "markdown",
   "id": "05052e1c-c09e-47c7-bc97-eee5a5b65ab9",
   "metadata": {},
   "source": [
    "Exercício 3: Faça um programa que verifique se uma letra digitada é vogal ou consoante."
   ]
  },
  {
   "cell_type": "code",
   "execution_count": null,
   "id": "a67343ed-32ce-48cf-b7e2-389a8f149724",
   "metadata": {},
   "outputs": [],
   "source": [
    "letra = input(\"Digite uma letra: \")\n",
    "vogais = ['a', 'b', 'c', 'd', 'e']\n",
    "if letra in vogais:\n",
    "    print(f\"A letra '{letra}' é uma vogal\")\n",
    "else:\n",
    "    print(f\"A letra '{letra}' é uma consoante\")"
   ]
  },
  {
   "cell_type": "markdown",
   "id": "cd3d9d97-817c-40e7-8c14-971b3ee92856",
   "metadata": {},
   "source": [
    "Exercício 4: Faça um programa para a leitura de duas notas parciais de um aluno. O programa deve calcular a média alcançada por aluno e apresentar: \\\n",
    "             a. A mensagem \"Aprovado\", se a média alcançada for maior ou igual a sete; \\\n",
    "             b. A mensagem \"Reprovado\", se a média for menor do que sete; \\\n",
    "             c. A mensagem \"Aprovado com Distinção\", se a média for igual a dez. \\"
   ]
  },
  {
   "cell_type": "code",
   "execution_count": null,
   "id": "4f9f99d8-4b79-424e-93b4-2912a7d3f5ea",
   "metadata": {},
   "outputs": [],
   "source": [
    "nota1 = float(input(\"Digite a nota 1: \"))\n",
    "nota2 = float(input(\"Digite a nota 2: \"))\n",
    "media = (nota1 + nota2) / 2\n",
    "if media < 7:\n",
    "    print(\"Reprovado\")\n",
    "elif media == 10:\n",
    "    print(\"Aprovado com Distinção\")\n",
    "else:\n",
    "    print(\"Aprovado\")"
   ]
  },
  {
   "cell_type": "markdown",
   "id": "a00eb38c-3ad7-4454-a7ee-e98f49ff6ca8",
   "metadata": {},
   "source": [
    "Exercício 5: Faça um programa que pergunte o preço de três produtos e informe qual produto você deve comprar, sabendo que a \n",
    "decisão é sempre pelo mais barato."
   ]
  },
  {
   "cell_type": "code",
   "execution_count": null,
   "id": "aed23df4-d9dc-4436-9a9e-4a6bb743a77e",
   "metadata": {},
   "outputs": [],
   "source": [
    "preco1 = float(input(\"Digite o preço do primeiro produto: R$ \"))\n",
    "preco2 = float(input(\"Digite o preço do segundo produto: R$ \"))\n",
    "preco3 = float(input(\"Digite o preço do terceiro produto: R$ \"))\n",
    "if preco1 < preco2 and preco1 < preco3:\n",
    "    print(\"Você deve comprar o primeiro produto\")\n",
    "elif preco2 < preco1 and preco2 < preco3:\n",
    "    print(\"Você deve comprar o segundo produto\")\n",
    "else:\n",
    "    print(\"Você deve comprar o terceiro produto\")"
   ]
  },
  {
   "cell_type": "markdown",
   "id": "bb870d85-9883-471e-b01f-84e39038dac6",
   "metadata": {},
   "source": [
    "Exercício 6: Faça um Programa que leia três números e mostre-os em ordem decrescente."
   ]
  },
  {
   "cell_type": "code",
   "execution_count": null,
   "id": "76f17125-6b75-495a-bbff-b2f9ecc9e38c",
   "metadata": {},
   "outputs": [],
   "source": [
    "a = float(input(\"Digite um número: \"))\n",
    "b = float(input(\"Digite outro número: \"))\n",
    "c = float(input(\"Digite mais um número: \"))\n",
    "lista = [a, b, c]\n",
    "lista.sort(reverse=True)\n",
    "print(lista)"
   ]
  },
  {
   "cell_type": "markdown",
   "id": "0cb25609-e7d9-45fe-b7d9-ea7a3802228d",
   "metadata": {},
   "source": [
    "Exercício 7: Faça um Programa que pergunte em que turno você estuda. Peça para digitar M-matutino ou V-Vespertino ou N- Noturno. \n",
    "Imprima a mensagem \"Bom Dia!\", \"Boa Tarde!\" ou \"Boa Noite!\" ou \"Valor Inválido!\", conforme o caso."
   ]
  },
  {
   "cell_type": "code",
   "execution_count": null,
   "id": "4bea884b-3442-4b04-8797-47647a37f6be",
   "metadata": {},
   "outputs": [],
   "source": [
    "turno = input(\"Em qual turno você estuda? (M - matutino) (V - vespertino) (N - noturno): \").upper()\n",
    "if turno == \"M\":\n",
    "    print(\"Bom dia!\")\n",
    "elif turno == \"V\":\n",
    "    print(\"Boa tarde!\")\n",
    "elif turno == \"N\":\n",
    "    print(\"Boa noite!\")\n",
    "else:\n",
    "    print(\"Valor Inválido!\")"
   ]
  },
  {
   "cell_type": "markdown",
   "id": "f5918c51-cea1-4458-86bc-f224771b5af8",
   "metadata": {},
   "source": [
    "Exercício 8: As Organizações Tabajara resolveram dar um aumento de salário aos seus colaboradores e lhe contrataram para desenvolver o programa que calculará os reajustes. \\\n",
    "a. Faça um programa que recebe o salário de um colaborador e o reajuste segundo o seguinte critério, baseado no \n",
    "salário atual: \\\n",
    "b. salários até R 280,00 (incluindo) : aumento de 20% \\\n",
    "c. salários entre R 280,00 e R 700,00 : aumento de 15% \\\n",
    "d. salários entre R 700,00 e R 1500,00 : aumento de 10% \\\n",
    "e. salários de R 1500,00 em diante : aumento de 5% Após o aumento ser realizado, informe na tela: \\\n",
    "f. o salário antes do reajuste; \\\n",
    "g. o percentual de aumento aplicado; \\\n",
    "h. o valor do aumento; \\\n",
    "i. o novo salário, após o aumento. "
   ]
  },
  {
   "cell_type": "code",
   "execution_count": null,
   "id": "113252b6-6bb8-47d6-911b-f9492501a80a",
   "metadata": {},
   "outputs": [],
   "source": [
    "salarios = []\n",
    "salario = int(input(\"Digite o seu salário: \"))\n",
    "salarios.append(salario)\n",
    "if salario <= 280:\n",
    "    salario = salario * 1.2\n",
    "    percentual = 20\n",
    "elif salario <= 700:\n",
    "    salario = salario * 1.15\n",
    "    percentual = 15\n",
    "elif salario <= 1500:\n",
    "    salario = salario * 1.1\n",
    "    percentual = 10\n",
    "else:\n",
    "    salario = salario * 1.05\n",
    "    percentual = 5\n",
    "salarios.append(salario) \n",
    "print(f\"Salário Inicial: {salarios[0]}\")\n",
    "print(f\"Percentual de aumento aplicado: {percentual} %\")\n",
    "print(f\"O valor do aumento: {salarios[1] - salarios[0]}\")\n",
    "print(f\"O novo salário: {salarios[1]}\")"
   ]
  },
  {
   "cell_type": "markdown",
   "id": "0960d0d2-6e17-4aab-b3ac-2ed147cae51a",
   "metadata": {},
   "source": [
    "Exercício 9: Faça um programa para o cálculo de uma folha de pagamento, sabendo que os descontos são do Imposto de Renda, que\n",
    "depende do salário bruto (conforme tabela abaixo) e 3% para o Sindicato e que o FGTS corresponde a 11% do Salário\n",
    "Bruto, mas não é descontado (é a empresa que deposita). O Salário Líquido corresponde ao Salário Bruto menos os\n",
    "descontos. O programa deverá pedir ao usuário o valor da sua hora e a quantidade de horas trabalhadas no mês. \\\n",
    "a. Desconto do IR: \\\n",
    "b. Salário Bruto até 900 (inclusive) - isento \\\n",
    "c. Salário Bruto até 1500 (inclusive) - desconto de 5% \\\n",
    "d. Salário Bruto até 2500 (inclusive) - desconto de 10% \\\n",
    "e. Salário Bruto acima de 2500 - desconto de 20% \\\n",
    "Imprima na tela as informações, dispostas conforme o exemplo abaixo. No exemplo o valor da hora é 5 e a quantidade de hora é 220\n",
    "\n",
    "\\\n",
    "f. Salário Bruto: (5 * 220) : R 1100,00 \\\n",
    "g. (-) IR (5%) : R 55,00 \\\n",
    "h. (-) INSS ( 10%) : R 110,00 \\\n",
    "i. FGTS (11%) : R 121,00 \\\n",
    "j. Total de descontos : R 165,00 \\\n",
    "   Salário Liquido : R 935,00 \\"
   ]
  },
  {
   "cell_type": "code",
   "execution_count": null,
   "id": "3c03b7da-d868-4985-b024-f8fbecc72a22",
   "metadata": {},
   "outputs": [],
   "source": [
    "hora = float(input(\"Qual o valor da sua hora de trabalho?: \"))\n",
    "qtde = float(input(\"Qual a quantidade de horas trabalhadas nesse mês?: \"))\n",
    "salario_bruto = hora * qtde\n",
    "fgts = salario_bruto * 0.11\n",
    "sindicato = salario_bruto * 0.03\n",
    "\n",
    "if salario_bruto <= 900:\n",
    "    p = 0\n",
    "    ir = salario_bruto * 0\n",
    "elif salario_bruto <= 1500:\n",
    "    p = 5\n",
    "    ir = salario_bruto * 0.05\n",
    "elif salario_bruto <= 2500:\n",
    "    p = 10\n",
    "    ir = salario_bruto * 0.10\n",
    "else:\n",
    "    p = 20\n",
    "    ir = salario_bruto * 0.2\n",
    "\n",
    "salario_liquido = salario_bruto - (ir + sindicato)\n",
    "\n",
    "print(f\"Salário Bruto: ({hora}*{qtde}) = R${salario_bruto:.2f}\")\n",
    "print(f\"(-) IR ({p}%): R${ir:.2f}\")\n",
    "print(f\"(-) Sindicato (3%): R$ {sindicato:.2f}\")\n",
    "print(f\"FGTS (11%): R${fgts:.2f}\")\n",
    "print(f\"Total de descontos: R${ir + sindicato}\")\n",
    "print(f\"Salário Líquido: R${salario_liquido:.2f}\")"
   ]
  },
  {
   "cell_type": "markdown",
   "id": "87aa9609-4771-48bf-baff-446a9f08fd32",
   "metadata": {},
   "source": [
    "Exercício 10: Faça um programa que lê as duas notas parciais obtidas por um aluno numa disciplina ao longo de um semestre, e calcule\n",
    "a sua média. A atribuição de conceitos obedece à tabela abaixo: \\\n",
    "a. Média de Aproveitamento Conceito \\\n",
    "b. Entre 9.0 e 10.0 A \\\n",
    "c. Entre 7.5 e 9.0 B \\\n",
    "d. Entre 6.0 e 7.5 C \\\n",
    "e. Entre 4.0 e 6.0 D \\\n",
    "f. Entre 4.0 e zero E\n"
   ]
  },
  {
   "cell_type": "code",
   "execution_count": null,
   "id": "b2f8e322-6e2a-428f-8d17-f4b219d7c974",
   "metadata": {},
   "outputs": [],
   "source": [
    "nota1 = float(input(\"Digite a primeira nota: \"))\n",
    "nota2 = float(input(\"Digite a segunda nota: \"))\n",
    "media = (nota1 + nota2) / 2\n",
    "if media < 4:\n",
    "    print(\"Conceito: E\")\n",
    "elif media < 6:\n",
    "    print(\"Conceito: D\")\n",
    "elif media < 7.5:\n",
    "    print(\"Conceito: C\")\n",
    "elif media < 9:\n",
    "    print(\"Conceito: B\")\n",
    "else:\n",
    "    print(\"Conceito: A\")"
   ]
  }
 ],
 "metadata": {
  "kernelspec": {
   "display_name": "Python [conda env:base] *",
   "language": "python",
   "name": "conda-base-py"
  },
  "language_info": {
   "codemirror_mode": {
    "name": "ipython",
    "version": 3
   },
   "file_extension": ".py",
   "mimetype": "text/x-python",
   "name": "python",
   "nbconvert_exporter": "python",
   "pygments_lexer": "ipython3",
   "version": "3.12.7"
  }
 },
 "nbformat": 4,
 "nbformat_minor": 5
}
