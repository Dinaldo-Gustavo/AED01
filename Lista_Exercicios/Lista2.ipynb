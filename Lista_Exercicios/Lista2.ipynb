{
 "cells": [
  {
   "cell_type": "markdown",
   "id": "b2c1c0cf-bc37-47ca-bf41-3b0f5481ea66",
   "metadata": {},
   "source": [
    "PARTE 2: LOOPS DE REPETIÇÃO"
   ]
  },
  {
   "cell_type": "markdown",
   "id": "3d07b39e-7afe-40f0-8486-40cc92938b01",
   "metadata": {},
   "source": [
    "Exercício 1: Faça um programa que peça uma nota, entre zero e dez. Mostre uma mensagem caso o valor seja inválido e continue pedindo até que o usuário informe um valor válido."
   ]
  },
  {
   "cell_type": "code",
   "execution_count": 20,
   "id": "679e508c-1353-4d94-ade5-3e54db5fdb3e",
   "metadata": {},
   "outputs": [
    {
     "name": "stdin",
     "output_type": "stream",
     "text": [
      "Digite uma nota de 0 a 10:  4\n"
     ]
    }
   ],
   "source": [
    "nota = int(input(\"Digite uma nota de 0 a 10: \"))\n",
    "while nota not in range(0, 11):\n",
    "    nota = float(input(\"Informe um valor válido: \"))"
   ]
  },
  {
   "cell_type": "markdown",
   "id": "deb1d9e9-9049-42a2-9452-9d7b0f1dfdb2",
   "metadata": {},
   "source": [
    "Exercício 2: Faça um programa que leia um nome de usuário e a sua senha e não aceite a senha igual ao nome do usuário, mostrando uma mensagem de erro e voltando a pedir as informações."
   ]
  },
  {
   "cell_type": "code",
   "execution_count": 22,
   "id": "15f072e8-3f2b-4798-bb7c-4adaf352a8ab",
   "metadata": {},
   "outputs": [
    {
     "name": "stdin",
     "output_type": "stream",
     "text": [
      "Digite o seu nome:  5\n",
      "Digite a sua senha:  3\n"
     ]
    }
   ],
   "source": [
    "nome = input(\"Digite o seu nome: \")\n",
    "senha = input(\"Digite a sua senha: \")\n",
    "while nome == senha:\n",
    "    print(\"ERRO: o nome e a senha não podem ser iguais\")\n",
    "    print(\"Tente novamente\")\n",
    "    nome = input(\"Digite o seu nome: \")\n",
    "    senha = input(\"Digite a sua senha: \")"
   ]
  },
  {
   "cell_type": "markdown",
   "id": "a46de3f8-e43f-4367-a3b8-0bf8c806432a",
   "metadata": {},
   "source": [
    "Exerício 3: Faça um programa que leia e valide as seguintes informações:\n",
    "a. Nome: maior que 3 caracteres;\n",
    "b. Idade: entre 0 e 150;\n",
    "c. Salário: maior que zero;\n",
    "d. Sexo: 'f' ou 'm';\n",
    "e. Estado Civil: 's', 'c', 'v', 'd'; \\"
   ]
  },
  {
   "cell_type": "code",
   "execution_count": 43,
   "id": "0de33ea2-5cf7-4554-87fd-1eacde9f7a1b",
   "metadata": {},
   "outputs": [
    {
     "name": "stdin",
     "output_type": "stream",
     "text": [
      "Digite o seu nome:  polo\n",
      "Digite a sua idade:  12\n",
      "Digite o seu salário:  1220\n",
      "Digite o seu sexo (f) ou (m):  f\n",
      "Digite o seu estado civil (s), (c), (v), (d):  s\n"
     ]
    },
    {
     "name": "stdout",
     "output_type": "stream",
     "text": [
      "Sucesso!\n"
     ]
    }
   ],
   "source": [
    "nome = input(\"Digite o seu nome: \")\n",
    "idade = int(input(\"Digite a sua idade: \"))\n",
    "salario = int(input(\"Digite o seu salário: \"))\n",
    "sexo = input(\"Digite o seu sexo (f) ou (m): \").lower()\n",
    "estado = input(\"Digite o seu estado civil (s), (c), (v), (d): \").lower()\n",
    "while len(nome) < 3 or idade < 0 or idade > 150 or salario < 0 or sexo not in ['f', 'm'] or estado not in ['s', 'v', 'c', 'd']:\n",
    "    print(\"Valores Inválidos, tente novamente\")\n",
    "    nome = input(\"Digite o seu nome: \")\n",
    "    idade = input(\"Digite a sua idade: \")\n",
    "    salario = input(\"Digite o seu salário: \")\n",
    "    sexo = input(\"Digite o seu sexo (f) ou (m): \").lower()\n",
    "    estado = input(\"Digite o seu estado civil (s), (c), (v), (d): \").lower()\n",
    "print(\"Sucesso!\")"
   ]
  },
  {
   "cell_type": "markdown",
   "id": "3cf1e30f-e792-43a8-becc-a5cbf24c35c0",
   "metadata": {},
   "source": [
    "Exercício 4: Supondo que a população de um país A seja da ordem de 80000 habitantes com uma taxa anual de crescimento de 3% e que a população de B seja 200000 habitantes com uma taxa de crescimento de 1.5%. Faça um programa que calcule e escreva o número de anos necessários para que a população do país A ultrapasse ou iguale a população do país B, mantidas as taxas de crescimento."
   ]
  },
  {
   "cell_type": "code",
   "execution_count": 41,
   "id": "1ce5dbca-9f89-47f0-b3a5-cd8f366ad3cc",
   "metadata": {},
   "outputs": [
    {
     "name": "stdout",
     "output_type": "stream",
     "text": [
      "63\n"
     ]
    }
   ],
   "source": [
    "a = 80000\n",
    "b = 200000\n",
    "ano = 0\n",
    "taxa_a = 0.03\n",
    "taxa_b = 0.015\n",
    "while a < b:\n",
    "    a = a + (a * taxa_a)\n",
    "    b = b + (b * taxa_b)\n",
    "    ano += 1\n",
    "print(ano)"
   ]
  },
  {
   "cell_type": "code",
   "execution_count": null,
   "id": "27949e68-c3b9-48ec-bf07-ae590f9f0243",
   "metadata": {},
   "outputs": [],
   "source": [
    "Exercício 5: Faça um programa que leia 5 números e informe a soma e a média dos números"
   ]
  },
  {
   "cell_type": "code",
   "execution_count": 39,
   "id": "1cf53e5d-408c-4997-b1f6-c0599ed1544d",
   "metadata": {},
   "outputs": [
    {
     "name": "stdin",
     "output_type": "stream",
     "text": [
      "Digite um número:  2\n",
      "Digite um número:  5\n",
      "Digite um número:  1\n",
      "Digite um número:  6\n",
      "Digite um número:  2\n"
     ]
    },
    {
     "name": "stdout",
     "output_type": "stream",
     "text": [
      "A soma é:  16.0\n",
      "A média é:  3.2\n"
     ]
    }
   ],
   "source": [
    "a = float(input(\"Digite um número: \"))\n",
    "b = float(input(\"Digite um número: \"))\n",
    "c = float(input(\"Digite um número: \"))\n",
    "d = float(input(\"Digite um número: \"))\n",
    "e = float(input(\"Digite um número: \"))\n",
    "soma = a + b + c + d + e\n",
    "media = soma / 5\n",
    "print(\"A soma é: \", soma)\n",
    "print(\"A média é: \", media)"
   ]
  },
  {
   "cell_type": "markdown",
   "id": "0443d35d-b194-4092-a60c-45bc3498f115",
   "metadata": {},
   "source": [
    "Exercício 6: Desenvolva um gerador de tabuada, capaz de gerar a tabuada de qualquer número inteiro entre 1 a 10. O usuário deve informar de qual numero ele deseja ver a tabuada. A saída deve ser conforme o exemplo abaixo:\n",
    "a. Tabuada de 5:\n",
    "b. 5 X 1 = 5\n",
    "c. 5 X 2 = 10\n",
    "d. ...\n",
    "e. 5 X 10 = 50 \\"
   ]
  },
  {
   "cell_type": "code",
   "execution_count": 37,
   "id": "9f6cf3e0-9e4e-4fc4-87d8-1023119d8619",
   "metadata": {},
   "outputs": [
    {
     "name": "stdin",
     "output_type": "stream",
     "text": [
      "Digite de qual número você quer ver a tabuada:  5\n"
     ]
    },
    {
     "name": "stdout",
     "output_type": "stream",
     "text": [
      "Tabuada do 5:\n",
      "5 x 1 = 5\n",
      "5 x 2 = 10\n",
      "5 x 3 = 15\n",
      "5 x 4 = 20\n",
      "5 x 5 = 25\n",
      "5 x 6 = 30\n",
      "5 x 7 = 35\n",
      "5 x 8 = 40\n",
      "5 x 9 = 45\n",
      "5 x 10 = 50\n"
     ]
    }
   ],
   "source": [
    "num = int(input(\"Digite de qual número você quer ver a tabuada: \"))\n",
    "print(f\"Tabuada do {num}:\")\n",
    "for i in range(1,11):\n",
    "    print(f\"{num} x {i} = {num * i}\")"
   ]
  },
  {
   "cell_type": "markdown",
   "id": "380deed6-f853-4949-b6f1-b95c159ddfc1",
   "metadata": {},
   "source": [
    "Exercício 7: A série de Fibonacci é formada pela seqüência 1,1,2,3,5,8,13,21,34,55,... Faça um programa capaz de gerar a série até o n−ésimo termo"
   ]
  },
  {
   "cell_type": "code",
   "execution_count": 35,
   "id": "adc9f5cb-6d9b-4c05-b24b-4491e8c3d293",
   "metadata": {},
   "outputs": [
    {
     "name": "stdin",
     "output_type": "stream",
     "text": [
      "Até que número quer ver a sequência de Fibonacci?:  4\n"
     ]
    },
    {
     "name": "stdout",
     "output_type": "stream",
     "text": [
      "1 1 2 3 "
     ]
    }
   ],
   "source": [
    "n = int(input(\"Até que número quer ver a sequência de Fibonacci?: \"))\n",
    "x = 1\n",
    "y = 1\n",
    "if n == 1:\n",
    "    print(x)\n",
    "elif n == 2:\n",
    "    print(x, y)\n",
    "else:\n",
    "    print(x, y, end=\" \")\n",
    "    for i in range(3, n+1):\n",
    "        z = x + y\n",
    "        print(z, end=\" \")\n",
    "        x, y = y, z"
   ]
  },
  {
   "cell_type": "markdown",
   "id": "273add35-44fa-410c-96a6-b8a5d6da7b7f",
   "metadata": {},
   "source": [
    "Exercício 8: Faça um programa que calcule o mostre a média aritmética de N notas"
   ]
  },
  {
   "cell_type": "code",
   "execution_count": 33,
   "id": "dc9959e1-56c4-4f31-97d3-3ab9412961fc",
   "metadata": {},
   "outputs": [
    {
     "name": "stdin",
     "output_type": "stream",
     "text": [
      "Quantas notas você quer fazer a média?:  5\n",
      "Digite as notas:  2\n",
      "Digite as notas:  2\n",
      "Digite as notas:  2\n",
      "Digite as notas:  3\n",
      "Digite as notas:  4\n"
     ]
    },
    {
     "name": "stdout",
     "output_type": "stream",
     "text": [
      "A média é: 2.6\n"
     ]
    }
   ],
   "source": [
    "N = int(input(\"Quantas notas você quer fazer a média?: \"))\n",
    "notas = []\n",
    "for i in range(N):\n",
    "    nota = float(input(\"Digite as notas: \"))\n",
    "    notas.append(nota)\n",
    "media = sum(notas) / N\n",
    "print(\"A média é:\", media)"
   ]
  },
  {
   "cell_type": "markdown",
   "id": "47a69ddd-d2ae-481a-824c-61fd85e2b280",
   "metadata": {},
   "source": [
    "Exercício 9: O Sr. Manoel Joaquim possui uma grande loja de artigos de R$ 1,99, com cerca de 10 caixas. Para agilizar o cálculo de quanto cada cliente deve pagar ele desenvolveu um tabela que contém o número de itens que o cliente comprou e ao lado o valor da conta. Desta forma a atendente do caixa precisa apenas contar quantos itens o cliente está levando e olhar na tabela de preços. Você foi contratado para desenvolver o programa que monta esta tabela de preços, que conterá os preços de 1 até 50 produtos, conforme o exemplo abaixo:\n",
    "a. Lojas Quase Dois - Tabela de preços\n",
    "b. 1 - R 1.99\n",
    "c. 2 - R 3.98\n",
    "d. ...\n",
    "e. 50 - R 99.50"
   ]
  },
  {
   "cell_type": "code",
   "execution_count": 31,
   "id": "75f5ee67-7404-4bca-899f-be70b766759c",
   "metadata": {},
   "outputs": [
    {
     "name": "stdout",
     "output_type": "stream",
     "text": [
      "1 - R$ 1.99\n",
      "2 - R$ 3.98\n",
      "3 - R$ 5.97\n",
      "4 - R$ 7.96\n",
      "5 - R$ 9.95\n",
      "6 - R$ 11.94\n",
      "7 - R$ 13.93\n",
      "8 - R$ 15.92\n",
      "9 - R$ 17.91\n",
      "10 - R$ 19.9\n",
      "11 - R$ 21.89\n",
      "12 - R$ 23.88\n",
      "13 - R$ 25.87\n",
      "14 - R$ 27.86\n",
      "15 - R$ 29.85\n",
      "16 - R$ 31.84\n",
      "17 - R$ 33.83\n",
      "18 - R$ 35.82\n",
      "19 - R$ 37.81\n",
      "20 - R$ 39.8\n",
      "21 - R$ 41.79\n",
      "22 - R$ 43.78\n",
      "23 - R$ 45.77\n",
      "24 - R$ 47.76\n",
      "25 - R$ 49.75\n",
      "26 - R$ 51.74\n",
      "27 - R$ 53.73\n",
      "28 - R$ 55.72\n",
      "29 - R$ 57.71\n",
      "30 - R$ 59.7\n",
      "31 - R$ 61.69\n",
      "32 - R$ 63.68\n",
      "33 - R$ 65.67\n",
      "34 - R$ 67.66\n",
      "35 - R$ 69.65\n",
      "36 - R$ 71.64\n",
      "37 - R$ 73.63\n",
      "38 - R$ 75.62\n",
      "39 - R$ 77.61\n",
      "40 - R$ 79.6\n",
      "41 - R$ 81.59\n",
      "42 - R$ 83.58\n",
      "43 - R$ 85.57\n",
      "44 - R$ 87.56\n",
      "45 - R$ 89.55\n",
      "46 - R$ 91.54\n",
      "47 - R$ 93.53\n",
      "48 - R$ 95.52\n",
      "49 - R$ 97.51\n",
      "50 - R$ 99.5\n"
     ]
    }
   ],
   "source": [
    "qtde = 1\n",
    "preco = 1.99\n",
    "while qtde <= 50:\n",
    "    print(f\"{qtde} - R$ {qtde * preco}\")\n",
    "    qtde += 1"
   ]
  }
 ],
 "metadata": {
  "kernelspec": {
   "display_name": "Python [conda env:base] *",
   "language": "python",
   "name": "conda-base-py"
  },
  "language_info": {
   "codemirror_mode": {
    "name": "ipython",
    "version": 3
   },
   "file_extension": ".py",
   "mimetype": "text/x-python",
   "name": "python",
   "nbconvert_exporter": "python",
   "pygments_lexer": "ipython3",
   "version": "3.12.7"
  }
 },
 "nbformat": 4,
 "nbformat_minor": 5
}
