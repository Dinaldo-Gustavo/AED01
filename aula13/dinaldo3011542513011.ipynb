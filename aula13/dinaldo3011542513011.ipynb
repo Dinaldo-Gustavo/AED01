{
 "cells": [
  {
   "cell_type": "markdown",
   "id": "3497b185-d6e8-4003-998e-01328ec2bb60",
   "metadata": {},
   "source": [
    "LISTA DE EXERCÍCIOS – AULA 13 – ESTRUTURAS DE DADOS\n",
    "INTEGRADAS: STRINGS, LISTAS, TUPLAS E DICIONÁRIOS"
   ]
  },
  {
   "cell_type": "markdown",
   "id": "4c23ba2b-e6b0-488c-9579-6354088bd714",
   "metadata": {},
   "source": [
    "Exercício 1:\n",
    "Crie um programa que recebe uma frase de entrada e a normaliza. A normalização deve transformar a\n",
    "frase para minúsculas, remover os espaços em excesso e substituir os espaços restantes por\n",
    "underscores (_)."
   ]
  },
  {
   "cell_type": "code",
   "execution_count": 23,
   "id": "df8a2960-1bea-46ca-9c2f-6a65faea9981",
   "metadata": {},
   "outputs": [],
   "source": [
    "def mudar_frases(frase):\n",
    "    palavras = frase.lower().split()\n",
    "    return \"_\".join(palavras)"
   ]
  },
  {
   "cell_type": "code",
   "execution_count": 25,
   "id": "45c2a01b-dd19-42ec-ba0d-17e94d28d434",
   "metadata": {},
   "outputs": [
    {
     "name": "stdin",
     "output_type": "stream",
     "text": [
      "Digite uma frase:  arroz com feijao\n"
     ]
    },
    {
     "name": "stdout",
     "output_type": "stream",
     "text": [
      "A frase mudada: arroz_com_feijao\n"
     ]
    }
   ],
   "source": [
    "f = input(\"Digite uma frase: \")\n",
    "print(f\"A frase mudada: {mudar_frases(f)}\")"
   ]
  },
  {
   "cell_type": "markdown",
   "id": "c6fab2ea-0f79-4fcb-aee1-8a7e56a21327",
   "metadata": {},
   "source": [
    "Exercício 2:\n",
    "Dada uma lista pré-definida de vendas diárias, remova todas as vendas menores que R$ 100,00 e\n",
    "calcule a média das vendas restantes."
   ]
  },
  {
   "cell_type": "code",
   "execution_count": 36,
   "id": "03be4f6b-d05c-4637-ad7d-357d5e634c10",
   "metadata": {},
   "outputs": [
    {
     "name": "stdout",
     "output_type": "stream",
     "text": [
      "A média dos valores restantes é:  349.55\n"
     ]
    }
   ],
   "source": [
    "from random import randint\n",
    "from statistics import mean\n",
    "vendas = [randint(1, 500) for i in range(50)]\n",
    "vendas_filtradas = [v for v in vendas if v >= 100]\n",
    "media = mean(vendas_filtradas)\n",
    "print(\"A média dos valores restantes é: \", media)"
   ]
  },
  {
   "cell_type": "markdown",
   "id": "d15fc407-322b-4808-9767-c694cfbbc07b",
   "metadata": {},
   "source": [
    "Exercício 3:\n",
    "Crie um programa que recebe três coordenadas (x, y) como tuplas e calcula a distância média dos\n",
    "pontos a partir da origem (0, 0). Use a fórmula da distância Euclidiana."
   ]
  },
  {
   "cell_type": "code",
   "execution_count": 51,
   "id": "7514c34a-7c99-4548-89a7-048ac92198f8",
   "metadata": {},
   "outputs": [],
   "source": [
    "from math import sqrt, pow\n",
    "def distanciaMedia(x, y):\n",
    "    return sqrt(pow(x ,2) + pow(y, 2))"
   ]
  },
  {
   "cell_type": "code",
   "execution_count": 57,
   "id": "723f24a7-8e85-4d78-b13d-b701e01ede3a",
   "metadata": {},
   "outputs": [
    {
     "name": "stdin",
     "output_type": "stream",
     "text": [
      "Digite o valor da coordenada x1:  30\n",
      "Digite o valor da coordenada y1:  20\n"
     ]
    },
    {
     "name": "stdout",
     "output_type": "stream",
     "text": [
      "A distância do ponto (30.0, 20.0) até a origem é: 36.06\n"
     ]
    },
    {
     "name": "stdin",
     "output_type": "stream",
     "text": [
      "Digite o valor da coordenada x2:  10\n",
      "Digite o valor da coordenada y2:  5\n"
     ]
    },
    {
     "name": "stdout",
     "output_type": "stream",
     "text": [
      "A distância do ponto (10.0, 5.0) até a origem é: 11.18\n"
     ]
    },
    {
     "name": "stdin",
     "output_type": "stream",
     "text": [
      "Digite o valor da coordenada x3:  50\n",
      "Digite o valor da coordenada y3:  15\n"
     ]
    },
    {
     "name": "stdout",
     "output_type": "stream",
     "text": [
      "A distância do ponto (50.0, 15.0) até a origem é: 52.20\n",
      "\n",
      "A distância média dos 3 pontos até a origem é: 33.15\n"
     ]
    }
   ],
   "source": [
    "soma_distancias = 0\n",
    "for i in range(3):\n",
    "    x = float(input(f\"Digite o valor da coordenada x{i+1}: \"))\n",
    "    y = float(input(f\"Digite o valor da coordenada y{i+1}: \"))\n",
    "    distancia = distanciaMedia(x, y)\n",
    "    print(f\"A distância do ponto ({x}, {y}) até a origem é: {distancia:.2f}\")\n",
    "    soma_distancias += distancia\n",
    "media = soma_distancias / 3\n",
    "print(f\"\\nA distância média dos 3 pontos até a origem é: {media:.2f}\")"
   ]
  },
  {
   "cell_type": "markdown",
   "id": "be0538ca-c1c8-4daa-8a04-9d77b4946058",
   "metadata": {},
   "source": [
    "Exercício 4:\n",
    "Crie um programa que recebe uma frase de entrada e conta a frequência de cada palavra. O\n",
    "programa deve mostrar a contagem de cada palavra ao final."
   ]
  },
  {
   "cell_type": "code",
   "execution_count": 73,
   "id": "2c8958eb-c1f0-42ea-9c5f-0b08cf5d5d84",
   "metadata": {},
   "outputs": [
    {
     "name": "stdin",
     "output_type": "stream",
     "text": [
      "Digite uma frase:  arroz com feijao e feijao com arroz\n"
     ]
    },
    {
     "name": "stdout",
     "output_type": "stream",
     "text": [
      "'arroz': 2\n",
      "'com': 2\n",
      "'feijao': 2\n",
      "'e': 1\n"
     ]
    }
   ],
   "source": [
    "frase = input(\"Digite uma frase:\").lower()\n",
    "palavras = frase.split()\n",
    "frequencia = {}\n",
    "for palavra in palavras:\n",
    "    if palavra not in frequencia:\n",
    "        frequencia[palavra] = palavras.count(palavra)\n",
    "for palavra, contagem in frequencia.items():\n",
    "    print(f\"'{palavra}': {contagem}\")"
   ]
  },
  {
   "cell_type": "code",
   "execution_count": null,
   "id": "163e378e-4505-43ae-8470-d0fb6c85a734",
   "metadata": {},
   "outputs": [],
   "source": []
  }
 ],
 "metadata": {
  "kernelspec": {
   "display_name": "Python [conda env:base] *",
   "language": "python",
   "name": "conda-base-py"
  },
  "language_info": {
   "codemirror_mode": {
    "name": "ipython",
    "version": 3
   },
   "file_extension": ".py",
   "mimetype": "text/x-python",
   "name": "python",
   "nbconvert_exporter": "python",
   "pygments_lexer": "ipython3",
   "version": "3.12.3"
  }
 },
 "nbformat": 4,
 "nbformat_minor": 5
}
